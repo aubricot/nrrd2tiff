{
 "cells": [
  {
   "cell_type": "markdown",
   "metadata": {},
   "source": [
    "# Convert a 3D .nrrd file to a 2D tiff stack \n",
    "*Last edited 17 Nov 2024 by K. Wolcott*    \n",
    "Convert a 3D .nrrd file made in 3D Slicer into a stack of 2D tiff images. This script is an alternate to manually converting .nrrd to tiff stack in Fiji."
   ]
  },
  {
   "cell_type": "code",
   "execution_count": null,
   "metadata": {},
   "outputs": [],
   "source": [
    "# Installs\n",
    "!pip install pillow\n",
    "!pip install numpy\n",
    "!pip install pynrrd\n",
    "!pip install os"
   ]
  },
  {
   "cell_type": "code",
   "execution_count": null,
   "metadata": {},
   "outputs": [],
   "source": [
    "# Imports\n",
    "import numpy as np\n",
    "from PIL import Image\n",
    "import nrrd\n",
    "import os\n",
    "\n",
    "# Convert .nrrd file from 3D Slicer to a tiff stack (Alternative to using Fiji GUI)\n",
    "def convert_nrrd(fn, inpath = \"./\", outpath = \"./\", nbits = \"16\"):\n",
    "    \"\"\"\n",
    "    This function converts an .nrrd file (from a micro-CT scan) to a tiff stack for upload to Morphosource.\n",
    "    Define your inpath (folder where your .nrrd file is saved), fin (your .nrrd filename), \n",
    "    outpath (folder where you want to save your tiff stack), and nbits (how many bits your dataset has; currently only tested for unsigned 16-bit)\n",
    "    Example input variables:\n",
    "    fn = 'thecac_ftg_rf_220622_2yPTAtest_fullres_cropped_masked.nrrd'\n",
    "    inpath = '/media/lab-admin/data/THECAC/thecac_ftg_rf_220622_2yPTAtest/slicer'\n",
    "    outpath = '/media/lab-admin/data/THECAC/thecac_ftg_rf_220622_2yPTAtest/slicer/ms/tiffs_py'\n",
    "    nbits = '16'\n",
    "    \"\"\"\n",
    "    base_fn = os.path.splitext(fn)[0]\n",
    "    fpath = inpath + \"/\" + fn\n",
    "    data, header = nrrd.read(fpath)\n",
    "    print(\"Data shape for {}: \\n{}\".format(fn, data.shape))\n",
    "    # Confirm that 16-bit images are being used\n",
    "    if nbits != \"16\":\n",
    "        print(\"You selected that you aren't using 16-bit unsigned images, please check PIL documentation and change image mode accordingly. https://pillow.readthedocs.io/en/stable/handbook/concepts.html#concept-modes\")\n",
    "    if not os.path.exists(outpath):\n",
    "        os.makedirs(outpath)\n",
    "        print(\"Making folder to save tiff stack in: \", outpath)\n",
    "    # Split .nrrd into individual tiffs and save to folder\n",
    "    for i in range(data.shape[2]):\n",
    "        img = np.array(data[:,:,i])\n",
    "        # TO DO: Adjust image mode here if not using 16-bit unsigned images\n",
    "        img = Image.fromarray(np.uint16(img), mode = \"I;16\") # tested for 16bit unisgned from Versa Xradia 620\n",
    "        fpath_out = outpath + \"/\" + base_fn + \"_\" + str(i)+ \".tiff\"\n",
    "        img.save(fpath_out)\n",
    "    print(\"Tiff stack of {} images saved to: {}\".format(data.shape[2], outpath))"
   ]
  },
  {
   "cell_type": "code",
   "execution_count": null,
   "metadata": {},
   "outputs": [],
   "source": [
    "# Convert .nrrd file from 3D slicer to a tiff stack\n",
    "# TO DO: Change values for below variables to match your .nrrd file input and tiff stack output locations\n",
    "fn = 'thecac_ftg_rf_220622_2yPTAtest_fullres_cropped_masked.nrrd'\n",
    "inpath = '/media/lab-admin/data/THECAC/thecac_ftg_rf_220622_2yPTAtest/slicer'\n",
    "outpath = '/media/lab-admin/data/THECAC/thecac_ftg_rf_220622_2yPTAtest/slicer/ms/tiffs_py'\n",
    "nbits = '16'\n",
    "\n",
    "# Convert the .nrrd file\n",
    "convert_nrrd(fn, inpath, outpath)"
   ]
  },
  {
   "cell_type": "code",
   "execution_count": null,
   "metadata": {},
   "outputs": [],
   "source": [
    "# Zip the tiff stack so it's ready for MorphoSource upload\n",
    "%cd $outpath\n",
    "print(\"Total folder size of tiff stack in: \", outpath)\n",
    "!du -sh -- .\n",
    "\n",
    "print(\"Zipping folder contents...\")\n",
    "%cd ../\n",
    "base_fn = os.path.splitext(fn)[0]\n",
    "zipped_fn = base_fn + '_zipped_stack.zip'\n",
    "unzipped_fn = os.path.basename(outpath)\n",
    "!zip -r $zipped_fn $unzipped_fn\n",
    "\n",
    "print(\"Total folder size after zipping: \")\n",
    "!du -h $zipped_fn"
   ]
  }
 ],
 "metadata": {
  "kernelspec": {
   "display_name": "ct_analysis",
   "language": "python",
   "name": "python3"
  },
  "language_info": {
   "codemirror_mode": {
    "name": "ipython",
    "version": 3
   },
   "file_extension": ".py",
   "mimetype": "text/x-python",
   "name": "python",
   "nbconvert_exporter": "python",
   "pygments_lexer": "ipython3",
   "version": "3.12.3"
  }
 },
 "nbformat": 4,
 "nbformat_minor": 2
}
